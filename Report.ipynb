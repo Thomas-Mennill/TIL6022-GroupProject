{
 "cells": [
  {
   "cell_type": "markdown",
   "metadata": {},
   "source": [
    "# Project Group\n",
    "\n",
    "Members: Alfi Rico Davey, Artemis Kalapouti, Bo de Man, Mariana Julietti Pelozo, Thomas Mennill\n",
    "\n",
    "Student numbers: 6304419, 6223087, 5040213, 6304761, 6210139"
   ]
  },
  {
   "cell_type": "markdown",
   "metadata": {},
   "source": [
    "# Research Objective\n",
    "\n",
    "*Requires data modeling and quantitative research in Transport, Infrastructure & Logistics*"
   ]
  },
  {
   "cell_type": "markdown",
   "metadata": {},
   "source": [
    "To what extent did remote working affected traffic jams during weekdays on the Dutch highways, between the period of 2018 to 2023?\n",
    "\n",
    "Sub-questions:\n",
    "- How does the frequency of working from home vary across different weekdays?\n",
    "- How much did the pattern and the amount of people working remotely change in the period between 2018 to 2023?\n",
    "- How is this pattern reflected in data regarding traffic jams?"
   ]
  },
  {
   "cell_type": "markdown",
   "metadata": {},
   "source": [
    "# Introduction\n",
    "During the COVID-19 pandemic, traffic all around the world decreased and roads were nearly empty. After the pandemic, a lot of companies in the Netherlands allowed their employees to work from home (fully or partially). It would be expected that this has an influence on the traffic patterns. In the Netherlands Tuesdays and Thursdays are by far the busiest days for commuting trips (ANWB, 2023). This has been the same before the pandemic when most people went to the office five days a week, but interestingly ANWB stated that in 2023 the heaviness of traffic jams (the length times the duration) increased with 17% compared to earlier years. They say that the effect of remote working cannot be seen in the data regarding traffic jams (ANWB, 2023). In 2023, compared to 2019 there were 470.000 more cars on the roads which has impact on the traffic jams (NOS, 2023a), and a research from Kantar Public (NOS, 2023b) showed that there were more car movements on each day in 2023 compared to 2019. \n",
    "\n",
    "\n",
    "To further research this topic …. INTRODUCTION ARTEMIS\n"
   ]
  },
  {
   "cell_type": "markdown",
   "metadata": {},
   "source": [
    "# Results analysis and interpretation\n",
    "\n",
    "The analysis of average commuting per person per weekday, presents a declining trend in total commuting trips from 2018 to 2019, with a more pronounced reduction—approximately 20% on average - over the last two years. This decline is not associated with unemployment rates, as the unemployment rates in 2018 and 2019 (4.87% and 4.45%) were actually higher than in 2022 and 2023 (3.52% and 3.55%) in the Netherlands, according to CBS StatLine. This suggests that the rise in remote work post-pandemic has significantly reduced commuting trips, as many employees no longer need to go to work everyday.\n",
    "In addition, during the last two years, most commuting trips were done on Tuesdays, followed by Thursdays, Mondays, Wednesdays, and Fridays. This pattern diverges from 2018 and 2019, when Mondays were as significant as or more than Thursdays. This shift reflects the current situation among hybrid-schedules works, who typically do not travel to the office on Mondays and Fridays.\n",
    "\n",
    "\n",
    "The same patterns / different patterns are observed in traffic jams data….\n",
    "\n",
    "\n",
    "\n",
    "However, average commuting trips increased by 4% in 2023 compared to 2022, suggesting that companies may be gradually encouraging employees to work on-office more frequently.\n"
   ]
  },
  {
   "cell_type": "markdown",
   "metadata": {},
   "source": [
    "# Contribution Statement\n",
    "\n",
    "*Be specific. Some of the tasks can be coding (expect everyone to do this), background research, conceptualisation, visualisation, data analysis, data modelling*"
   ]
  },
  {
   "cell_type": "markdown",
   "metadata": {},
   "source": [
    "**Programming:** \n",
    "\n",
    "Version control - Alfi \n",
    "\n",
    "Clean up traffic data - Bo\n",
    "\n",
    "Clean up commuting datasets - Alfi\n",
    "\n",
    "Analyze trends in traffic data - Thomas\n",
    "\n",
    "Analyze trends in commuting data - Mariana\n",
    "\n",
    "Visualize results - Artemis\n",
    "\n",
    "\n",
    "**Research & text:**\n",
    "\n",
    "Introduction - Artemis\n",
    "\n",
    "Background research - Bo\n",
    "\n",
    "Methods - Thomas\n",
    "\n",
    "Results analysis & interpretation - Mariana\n",
    "\n",
    "Conclusion - Alfi\n"
   ]
  },
  {
   "cell_type": "markdown",
   "metadata": {},
   "source": [
    "# Data Used"
   ]
  },
  {
   "cell_type": "markdown",
   "metadata": {},
   "source": [
    "Database for traffic jams: https://downloads.rijkswaterstaatdata.nl/filedata/ \n",
    "\n",
    "Database for daily average commute time and distance per weekday per travel purposes, from 2018 to 2023: https://opendata.cbs.nl/statline/#/CBS/en/dataset/85055eng/table?ts=1727687837173\n",
    "\n",
    "Database for daily average commute time and distance, separated by demographics, in the Netherlands from 2018: https://opendata.cbs.nl/#/CBS/en/dataset/84713ENG/table\n",
    "\n",
    "Average number of trips per weekday of commute, all modes of transport, 2018-2023: https://ec.europa.eu/eurostat/databrowser/product/page/lfsa_ehomp\n",
    "\n",
    "Fraction of transport modes: https://opendata.cbs.nl/statline/#/CBS/en/dataset/84710ENG/table?ts=1727863074020"
   ]
  },
  {
   "cell_type": "markdown",
   "metadata": {},
   "source": [
    "# Data Pipeline"
   ]
  },
  {
   "cell_type": "markdown",
   "metadata": {},
   "source": [
    "Filter the database based on the cause of the traffic jam (peak-hours, accidents, broken vehicle), considering only peak-hour jams.\n",
    "Utilize the data for 2018 and 2019 and compare to 2022 and 2023, in order to reduce the pandemics impacts on the results.\n",
    "\n",
    "Combine the average number of trips with the fraction of transport modes to get the amount of commutes by car per weekday per year. \n",
    "Utilize data from the same years to see the commute trends, hence drawing conclusions about remote working.\n",
    "\n",
    "This data combined can be used to see whether the trends in remote working can also be seen in peak-hour traffic jams. "
   ]
  },
  {
   "cell_type": "markdown",
   "metadata": {},
   "source": [
    "# References\n",
    "- ANWB. (2023, December 30). 17 procent meer files op de Nederlandse wegen in 2023. Retrieved October 23, 2024, from https://www.anwb.nl/verkeer/nieuws/nederland/2023/december/filezwaarte-2023\n",
    "- NOS. (2023a, April 2). ANWB: aantal files nu hoger dan voor corona. Retrieved October 23, 2024, from https://nos.nl/artikel/2469857-anwb-aantal-files-nu-hoger-dan-voor-corona\n",
    "- NOS. (2023b, June 15). Thuiswerken in strijd tegen files blijft lastig voor veel werknemers. Retrieved October 23, 2024, from https://nos.nl/artikel/2478981-thuiswerken-in-strijd-tegen-files-blijft-lastig-voor-veel-werknemers\n",
    "\n",
    "- XXXXXXXXXXXXX Retrieved November 4, 2024, from https://opendata.cbs.nl/#/CBS/en/dataset/80590eng/table\n"
   ]
  }
 ],
 "metadata": {
  "kernelspec": {
   "display_name": "Python 3",
   "language": "python",
   "name": "python3"
  },
  "language_info": {
   "codemirror_mode": {
    "name": "ipython",
    "version": 3
   },
   "file_extension": ".py",
   "mimetype": "text/x-python",
   "name": "python",
   "nbconvert_exporter": "python",
   "pygments_lexer": "ipython3",
   "version": "3.8.5"
  },
  "vscode": {
   "interpreter": {
    "hash": "31f2aee4e71d21fbe5cf8b01ff0e069b9275f58929596ceb00d14d90e3e16cd6"
   }
  }
 },
 "nbformat": 4,
 "nbformat_minor": 2
}
